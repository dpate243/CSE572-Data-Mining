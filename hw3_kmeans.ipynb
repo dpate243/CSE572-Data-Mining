{
 "cells": [
  {
   "cell_type": "markdown",
   "metadata": {},
   "source": [
    "## CSE 572: DATA MINING\n",
    "### HW 3\n",
    "### K-means Clustering"
   ]
  },
  {
   "cell_type": "code",
   "execution_count": 114,
   "metadata": {},
   "outputs": [],
   "source": [
    "import numpy as np\n",
    "import pandas as pd\n",
    "import matplotlib.pyplot as plt\n",
    "from sklearn.metrics import accuracy_score\n",
    "import time"
   ]
  },
  {
   "cell_type": "code",
   "execution_count": 8,
   "metadata": {},
   "outputs": [],
   "source": [
    "data = pd.read_csv(\"kmeans_data/data.csv\",header = None).to_numpy()\n",
    "labels = pd.read_csv(\"kmeans_data/label.csv\",header = None).to_numpy()"
   ]
  },
  {
   "cell_type": "code",
   "execution_count": 15,
   "metadata": {},
   "outputs": [],
   "source": [
    "def euclidean(point1, point2):\n",
    "    return np.linalg.norm(point1 - point2)\n",
    "\n",
    "def cosine(point1, point2):\n",
    "    dot_product = np.dot(point1, point2)\n",
    "    norm1 = np.linalg.norm(point1)\n",
    "    norm2 = np.linalg.norm(point2)\n",
    "    return 1 - (dot_product / (norm1 * norm2))\n",
    "\n",
    "def jaccard(point1, point2):\n",
    "    n = np.sum(np.minimum(point1, point2))\n",
    "    d = np.sum(np.maximum(point1, point2))\n",
    "    jaccard_score = n / d\n",
    "    return 1 - jaccard_score"
   ]
  },
  {
   "cell_type": "code",
   "execution_count": 107,
   "metadata": {},
   "outputs": [],
   "source": [
    "def kmeans(data, k, distance, max_iter=500):\n",
    "    '''k-means algo'''\n",
    "    n, m = data.shape\n",
    "    centroids = data[np.random.choice(n, k, replace=False)]\n",
    "    clusters = np.zeros(n)\n",
    "    \n",
    "    for dummy in range(max_iter):\n",
    "        for i, point in enumerate(data):\n",
    "            distances = [distance(point, centroid) for centroid in centroids]\n",
    "            clusters[i] = np.argmin(distances)\n",
    "        \n",
    "        centroids = np.array([data[clusters == j].mean(axis=0) for j in range(k)])\n",
    "        # if np.all(new_centroids == centroids):\n",
    "        #     break\n",
    "        # centroids = new_centroids\n",
    "        \n",
    "    sse = sum([distance(data[i], centroids[int(c)])**2 for i, c in enumerate(clusters)])\n",
    "    \n",
    "    return clusters, centroids, sse"
   ]
  },
  {
   "cell_type": "markdown",
   "metadata": {},
   "source": [
    "## Q1"
   ]
  },
  {
   "cell_type": "code",
   "execution_count": 109,
   "metadata": {},
   "outputs": [
    {
     "name": "stdout",
     "output_type": "stream",
     "text": [
      "\n",
      "SSE Comparison:\n",
      "\n",
      "Euclidean:\n",
      "SSE = 25323851408.26738\n",
      "\n",
      "------------------------------------\n",
      "\n",
      "Cosine:\n",
      "SSE = 687.7671018695032\n",
      "\n",
      "------------------------------------\n",
      "\n",
      "Jaccard:\n",
      "SSE = 3729.475436757144\n",
      "\n",
      "------------------------------------\n"
     ]
    }
   ],
   "source": [
    "k = len(np.unique(labels)) # 10\n",
    "\n",
    "iter = 100\n",
    "print(\"\\nSSE Comparison:\")\n",
    "\n",
    "euclidean_clusters, euclidean_centroids, euclidean_sse = kmeans(data, k, euclidean, iter)\n",
    "print(f\"\\nEuclidean:\")\n",
    "print(f\"SSE = {euclidean_sse}\")\n",
    "print(\"\\n------------------------------------\")\n",
    "\n",
    "cosine_clusters, cosine_centroids, cosine_sse = kmeans(data, k, cosine, iter)\n",
    "print(f\"\\nCosine:\")\n",
    "print(f\"SSE = {cosine_sse}\")\n",
    "print(\"\\n------------------------------------\")\n",
    "\n",
    "jaccard_clusters, jaccard_centroids, jaccard_sse = kmeans(data, k, jaccard, iter)\n",
    "print(f\"\\nJaccard:\")\n",
    "print(f\"SSE = {jaccard_sse}\")\n",
    "print(\"\\n------------------------------------\")"
   ]
  },
  {
   "cell_type": "markdown",
   "metadata": {},
   "source": [
    "## Q2"
   ]
  },
  {
   "cell_type": "code",
   "execution_count": null,
   "metadata": {},
   "outputs": [],
   "source": [
    "def compute_accuracy(true_labels, predicted_clusters):\n",
    "    \"\"\"\n",
    "    Computes the accuracy of clustering by mapping clusters to true labels.\n",
    "\n",
    "    Parameters:\n",
    "    - true_labels: Array of true class labels.\n",
    "    - predicted_clusters: Array of predicted cluster indices.\n",
    "\n",
    "    Returns:\n",
    "    - accuracy: Accuracy of the clustering.\n",
    "    \"\"\"\n",
    "    # Get the unique clusters and true labels\n",
    "    unique_clusters = np.unique(predicted_clusters)\n",
    "\n",
    "    # Create a mapping from cluster to the majority class\n",
    "    cluster_to_label = {}\n",
    "\n",
    "    for cluster in unique_clusters:\n",
    "        # Find the majority class in each cluster\n",
    "        cluster_points = true_labels[predicted_clusters == cluster]\n",
    "        if len(cluster_points) > 0:\n",
    "            majority_label = np.bincount(cluster_points).argmax()\n",
    "            cluster_to_label[cluster] = majority_label\n",
    "\n",
    "    # Map the predicted clusters to their corresponding labels\n",
    "    predicted_labels = np.array([cluster_to_label[cluster] for cluster in predicted_clusters])\n",
    "    # Compute the accuracy\n",
    "    accuracy = accuracy_score(true_labels, predicted_labels)\n",
    "    return accuracy"
   ]
  },
  {
   "cell_type": "code",
   "execution_count": 113,
   "metadata": {},
   "outputs": [
    {
     "name": "stdout",
     "output_type": "stream",
     "text": [
      "\n",
      "Accuracy:\n",
      "Euclidian =  60.21 %\n",
      "Cosine =  58.34 %\n",
      "Jaccard =  60.38 %\n"
     ]
    }
   ],
   "source": [
    "print(\"\\nAccuracy:\")\n",
    "print(\"Euclidian = \",np.round(compute_accuracy(labels.flatten(), euclidean_clusters.astype(int))*100,2),\"%\")\n",
    "print(\"Cosine = \",np.round(compute_accuracy(labels.flatten(), cosine_clusters.astype(int))*100,2),\"%\")\n",
    "print(\"Jaccard = \",np.round(compute_accuracy(labels.flatten(), jaccard_clusters.astype(int))*100,2),\"%\")"
   ]
  },
  {
   "cell_type": "markdown",
   "metadata": {},
   "source": [
    "## Q3 & Q4"
   ]
  },
  {
   "cell_type": "markdown",
   "metadata": {},
   "source": [
    "### Stop criteria: No change in centroids"
   ]
  },
  {
   "cell_type": "code",
   "execution_count": 116,
   "metadata": {},
   "outputs": [],
   "source": [
    "def kmeans_tolerance(data, k, distance, tolerance_limit = 0.0001, max_iter=500):\n",
    "    '''k-means algo with stop criteria: no change in centroids'''\n",
    "    n, m = data.shape\n",
    "    centroids = data[np.random.choice(n, k, replace=False)]\n",
    "    clusters = np.zeros(n)\n",
    "    \n",
    "    for iter in range(max_iter):\n",
    "        for i, point in enumerate(data):\n",
    "            distances = [distance(point, centroid) for centroid in centroids]\n",
    "            clusters[i] = np.argmin(distances)\n",
    "        \n",
    "        new_centroids = np.array([data[clusters == j].mean(axis=0) for j in range(k)])\n",
    "        if np.all(np.abs(new_centroids - centroids) < tolerance_limit):\n",
    "            break\n",
    "        centroids = new_centroids\n",
    "        \n",
    "    sse = sum([distance(data[i], centroids[int(c)])**2 for i, c in enumerate(clusters)])\n",
    "    \n",
    "    return clusters, centroids, sse, iter + 1"
   ]
  },
  {
   "cell_type": "code",
   "execution_count": 120,
   "metadata": {},
   "outputs": [
    {
     "name": "stdout",
     "output_type": "stream",
     "text": [
      "\n",
      "Stop Criteria: No change in centroids\n",
      "\n",
      "Euclidean:\n",
      "SSE = 25477833806.63314\n",
      "Iterations =  80\n",
      "Time =  36.25173735618591\n",
      "\n",
      "------------------------------------\n",
      "\n",
      "Cosine:\n",
      "SSE = 682.0518876846062\n",
      "Iterations =  70\n",
      "Time =  51.39323091506958\n",
      "\n",
      "------------------------------------\n",
      "\n",
      "Jaccard:\n",
      "SSE = 3661.2799213191965\n",
      "Iterations =  74\n",
      "Time =  71.9665458202362\n",
      "\n",
      "------------------------------------\n"
     ]
    }
   ],
   "source": [
    "k = len(np.unique(labels)) # 10\n",
    "\n",
    "\n",
    "print(\"\\nStop Criteria: No change in centroids\")\n",
    "\n",
    "go = time.time()\n",
    "euclidean_clusters, euclidean_centroids, euclidean_sse, iters = kmeans_tolerance(data, k, euclidean)\n",
    "finish = time.time()\n",
    "print(f\"\\nEuclidean:\")\n",
    "print(f\"SSE = {euclidean_sse}\")\n",
    "print(\"Iterations = \", iters)\n",
    "print(\"Time = \", finish-go)\n",
    "print(\"\\n------------------------------------\")\n",
    "\n",
    "go = time.time()\n",
    "cosine_clusters, cosine_centroids, cosine_sse, iters = kmeans_tolerance(data, k, cosine)\n",
    "finish = time.time()\n",
    "print(f\"\\nCosine:\")\n",
    "print(f\"SSE = {cosine_sse}\")\n",
    "print(\"Iterations = \", iters)\n",
    "print(\"Time = \", finish-go)\n",
    "print(\"\\n------------------------------------\")\n",
    "\n",
    "go = time.time()\n",
    "jaccard_clusters, jaccard_centroids, jaccard_sse, iters = kmeans_tolerance(data, k, jaccard)\n",
    "finish = time.time()\n",
    "print(f\"\\nJaccard:\")\n",
    "print(f\"SSE = {jaccard_sse}\")\n",
    "print(\"Iterations = \", iters)\n",
    "print(\"Time = \", finish-go)\n",
    "print(\"\\n------------------------------------\")"
   ]
  },
  {
   "cell_type": "markdown",
   "metadata": {},
   "source": [
    "### Stop Criteria: Increase in SSE"
   ]
  },
  {
   "cell_type": "code",
   "execution_count": 121,
   "metadata": {},
   "outputs": [],
   "source": [
    "def kmeans_inc_sse(data, k, distance, max_iter=500):\n",
    "    '''k-means algo with stop criteria: no change in centroids'''\n",
    "    n, m = data.shape\n",
    "    centroids = data[np.random.choice(n, k, replace=False)]\n",
    "    clusters = np.zeros(n)\n",
    "    \n",
    "    for iter in range(max_iter):\n",
    "        for i, point in enumerate(data):\n",
    "            distances = [distance(point, centroid) for centroid in centroids]\n",
    "            clusters[i] = np.argmin(distances)\n",
    "        \n",
    "        sse = sum([distance(data[i], centroids[int(c)])**2 for i, c in enumerate(clusters)])\n",
    "        new_centroids = np.array([data[clusters == j].mean(axis=0) for j in range(k)])\n",
    "        new_sse = sum([distance(data[i], new_centroids[int(c)])**2 for i, c in enumerate(clusters)])\n",
    "        if new_sse > sse:\n",
    "            break\n",
    "        centroids = new_centroids\n",
    "            \n",
    "    return clusters, centroids, sse, iter + 1"
   ]
  },
  {
   "cell_type": "code",
   "execution_count": null,
   "metadata": {},
   "outputs": [
    {
     "name": "stdout",
     "output_type": "stream",
     "text": [
      "\n",
      "Stop Criteria: No change in centroids\n",
      "\n",
      "Euclidean:\n",
      "SSE = 25407782883.540108\n",
      "Iterations =  500\n",
      "Time =  315.3308460712433\n",
      "\n",
      "------------------------------------\n",
      "\n",
      "Cosine:\n",
      "SSE = 687.012736092078\n",
      "Iterations =  17\n",
      "Time =  29.042181491851807\n",
      "\n",
      "------------------------------------\n",
      "\n",
      "Jaccard:\n",
      "SSE = 3994.5076660085647\n",
      "Iterations =  1\n",
      "Time =  0.9720587730407715\n",
      "\n",
      "------------------------------------\n"
     ]
    }
   ],
   "source": [
    "k = len(np.unique(labels)) # 10\n",
    "\n",
    "\n",
    "print(\"\\nStop Criteria: Increase in SSE\")\n",
    "\n",
    "go = time.time()\n",
    "euclidean_clusters, euclidean_centroids, euclidean_sse, iters = kmeans_inc_sse(data, k, euclidean)\n",
    "finish = time.time()\n",
    "print(f\"\\nEuclidean:\")\n",
    "print(f\"SSE = {euclidean_sse}\")\n",
    "print(\"Iterations = \", iters)\n",
    "print(\"Time = \", finish-go)\n",
    "print(\"\\n------------------------------------\")\n",
    "\n",
    "go = time.time()\n",
    "cosine_clusters, cosine_centroids, cosine_sse, iters = kmeans_inc_sse(data, k, cosine)\n",
    "finish = time.time()\n",
    "print(f\"\\nCosine:\")\n",
    "print(f\"SSE = {cosine_sse}\")\n",
    "print(\"Iterations = \", iters)\n",
    "print(\"Time = \", finish-go)\n",
    "print(\"\\n------------------------------------\")\n",
    "\n",
    "go = time.time()\n",
    "jaccard_clusters, jaccard_centroids, jaccard_sse, iters = kmeans_inc_sse(data, k, jaccard)\n",
    "finish = time.time()\n",
    "print(f\"\\nJaccard:\")\n",
    "print(f\"SSE = {jaccard_sse}\")\n",
    "print(\"Iterations = \", iters)\n",
    "print(\"Time = \", finish-go)\n",
    "print(\"\\n------------------------------------\")"
   ]
  },
  {
   "cell_type": "markdown",
   "metadata": {},
   "source": [
    "### Stop criteria: Max Iterations = 500"
   ]
  },
  {
   "cell_type": "code",
   "execution_count": 123,
   "metadata": {},
   "outputs": [],
   "source": [
    "def kmeans_max_iter(data, k, distance, max_iter=500):\n",
    "    '''k-means algo'''\n",
    "    n, m = data.shape\n",
    "    centroids = data[np.random.choice(n, k, replace=False)]\n",
    "    clusters = np.zeros(n)\n",
    "    \n",
    "    for dummy in range(max_iter):\n",
    "        for i, point in enumerate(data):\n",
    "            distances = [distance(point, centroid) for centroid in centroids]\n",
    "            clusters[i] = np.argmin(distances)\n",
    "        \n",
    "        centroids = np.array([data[clusters == j].mean(axis=0) for j in range(k)])\n",
    "        \n",
    "    sse = sum([distance(data[i], centroids[int(c)])**2 for i, c in enumerate(clusters)])\n",
    "    \n",
    "    return clusters, centroids, sse"
   ]
  },
  {
   "cell_type": "code",
   "execution_count": 124,
   "metadata": {},
   "outputs": [
    {
     "name": "stdout",
     "output_type": "stream",
     "text": [
      "\n",
      "Stop Criteria: No change in centroids\n",
      "\n",
      "Euclidean:\n",
      "SSE = 25455066291.91364\n",
      "Time =  242.48348307609558\n",
      "\n",
      "------------------------------------\n",
      "\n",
      "Cosine:\n",
      "SSE = 684.2583124399049\n",
      "Time =  378.21709537506104\n",
      "\n",
      "------------------------------------\n",
      "\n",
      "Jaccard:\n",
      "SSE = 3660.4583924193375\n",
      "Time =  793.3880848884583\n",
      "\n",
      "------------------------------------\n"
     ]
    }
   ],
   "source": [
    "k = len(np.unique(labels)) # 10\n",
    "\n",
    "\n",
    "print(\"\\nStop Criteria: Max Iter = 500\")\n",
    "\n",
    "go = time.time()\n",
    "euclidean_clusters, euclidean_centroids, euclidean_sse = kmeans_max_iter(data, k, euclidean)\n",
    "finish = time.time()\n",
    "print(f\"\\nEuclidean:\")\n",
    "print(f\"SSE = {euclidean_sse}\")\n",
    "print(\"Time = \", finish-go)\n",
    "print(\"\\n------------------------------------\")\n",
    "\n",
    "go = time.time()\n",
    "cosine_clusters, cosine_centroids, cosine_sse = kmeans_max_iter(data, k, cosine)\n",
    "finish = time.time()\n",
    "print(f\"\\nCosine:\")\n",
    "print(f\"SSE = {cosine_sse}\")\n",
    "print(\"Time = \", finish-go)\n",
    "print(\"\\n------------------------------------\")\n",
    "\n",
    "go = time.time()\n",
    "jaccard_clusters, jaccard_centroids, jaccard_sse= kmeans_max_iter(data, k, jaccard)\n",
    "finish = time.time()\n",
    "print(f\"\\nJaccard:\")\n",
    "print(f\"SSE = {jaccard_sse}\")\n",
    "print(\"Time = \", finish-go)\n",
    "print(\"\\n------------------------------------\")"
   ]
  },
  {
   "cell_type": "code",
   "execution_count": null,
   "metadata": {},
   "outputs": [],
   "source": []
  }
 ],
 "metadata": {
  "kernelspec": {
   "display_name": "Python 3",
   "language": "python",
   "name": "python3"
  },
  "language_info": {
   "codemirror_mode": {
    "name": "ipython",
    "version": 3
   },
   "file_extension": ".py",
   "mimetype": "text/x-python",
   "name": "python",
   "nbconvert_exporter": "python",
   "pygments_lexer": "ipython3",
   "version": "3.11.9"
  }
 },
 "nbformat": 4,
 "nbformat_minor": 2
}
